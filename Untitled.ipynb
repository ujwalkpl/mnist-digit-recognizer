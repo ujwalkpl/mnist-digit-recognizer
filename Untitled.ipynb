{
 "cells": [
  {
   "cell_type": "code",
   "execution_count": 1,
   "metadata": {},
   "outputs": [],
   "source": [
    "import matplotlib.pyplot as plt\n",
    "import pandas as pd\n",
    "from sklearn.model_selection import train_test_split\n",
    "%matplotlib inline"
   ]
  },
  {
   "cell_type": "code",
   "execution_count": 21,
   "metadata": {},
   "outputs": [],
   "source": [
    "train=pd.read_csv('train.csv');\n",
    "test = pd.read_csv('test.csv');\n",
    "\n",
    "testcopy=test.values"
   ]
  },
  {
   "cell_type": "code",
   "execution_count": 4,
   "metadata": {},
   "outputs": [],
   "source": [
    "train_copy=train.copy()\n",
    "y=train_copy['label'].values\n",
    "\n"
   ]
  },
  {
   "cell_type": "code",
   "execution_count": 97,
   "metadata": {},
   "outputs": [],
   "source": [
    "train_copy.drop?\n",
    "\n"
   ]
  },
  {
   "cell_type": "code",
   "execution_count": 5,
   "metadata": {},
   "outputs": [],
   "source": [
    "X=train_copy.drop(columns='label').values"
   ]
  },
  {
   "cell_type": "code",
   "execution_count": 6,
   "metadata": {},
   "outputs": [],
   "source": [
    "(X_train,X_test,y_train,y_test)=train_test_split(X,y,random_state=21,test_size=0.3)"
   ]
  },
  {
   "cell_type": "code",
   "execution_count": 7,
   "metadata": {},
   "outputs": [],
   "source": [
    "from sklearn.neural_network import MLPClassifier\n",
    "clf = MLPClassifier(solver='adam', alpha=1e-5,hidden_layer_sizes=380, random_state=1)"
   ]
  },
  {
   "cell_type": "code",
   "execution_count": 163,
   "metadata": {
    "collapsed": true
   },
   "outputs": [
    {
     "name": "stdout",
     "output_type": "stream",
     "text": [
      "(29400, 784)\n",
      "(29400,)\n",
      "(12600, 784)\n",
      "(12600,)\n"
     ]
    },
    {
     "data": {
      "text/plain": [
       "(12600,)"
      ]
     },
     "execution_count": 163,
     "metadata": {},
     "output_type": "execute_result"
    }
   ],
   "source": [
    "print(np.shape(X_train))\n",
    "print(np.shape(y_train))\n",
    "print(np.shape(X_test))\n",
    "print(np.shape(y_test))\n",
    "y_test.shape"
   ]
  },
  {
   "cell_type": "code",
   "execution_count": 8,
   "metadata": {
    "collapsed": true
   },
   "outputs": [
    {
     "data": {
      "text/plain": [
       "MLPClassifier(activation='relu', alpha=1e-05, batch_size='auto', beta_1=0.9,\n",
       "       beta_2=0.999, early_stopping=False, epsilon=1e-08,\n",
       "       hidden_layer_sizes=380, learning_rate='constant',\n",
       "       learning_rate_init=0.001, max_iter=200, momentum=0.9,\n",
       "       n_iter_no_change=10, nesterovs_momentum=True, power_t=0.5,\n",
       "       random_state=1, shuffle=True, solver='adam', tol=0.0001,\n",
       "       validation_fraction=0.1, verbose=False, warm_start=False)"
      ]
     },
     "execution_count": 8,
     "metadata": {},
     "output_type": "execute_result"
    }
   ],
   "source": [
    "clf.fit(X_train,y_train)"
   ]
  },
  {
   "cell_type": "code",
   "execution_count": 9,
   "metadata": {
    "collapsed": true
   },
   "outputs": [
    {
     "name": "stdout",
     "output_type": "stream",
     "text": [
      "[1 4 9 ... 6 7 0]\n",
      "[1 4 2 ... 6 7 0]\n"
     ]
    },
    {
     "data": {
      "text/plain": [
       "0.9726190476190476"
      ]
     },
     "execution_count": 9,
     "metadata": {},
     "output_type": "execute_result"
    }
   ],
   "source": [
    "import numpy as np\n",
    "y_pred=clf.predict(X_test)\n",
    "print(y_pred)\n",
    "print(y_test)\n",
    "clf.score(X_test,y_test)\n",
    "\n"
   ]
  },
  {
   "cell_type": "code",
   "execution_count": 19,
   "metadata": {},
   "outputs": [],
   "source": [
    "output=clf.predict(testcopy)"
   ]
  },
  {
   "cell_type": "code",
   "execution_count": 28,
   "metadata": {},
   "outputs": [],
   "source": [
    "df=pd.DataFrame({'ImageId':np.array(range(1,28001)),'Label':output})\n",
    "\n",
    "df.to_csv('outputfile.csv',index=False)\n",
    "df.head()\n",
    "df.to_csv?"
   ]
  },
  {
   "cell_type": "code",
   "execution_count": 44,
   "metadata": {
    "collapsed": true
   },
   "outputs": [
    {
     "name": "stdout",
     "output_type": "stream",
     "text": [
      "[2 8 2 5 3 0 1 3 6 2 3 0 9 3 4 1 0 9 3 0 9 3 5 0 3 8 2 9 3 4 2 6 8 9 2 4 3\n",
      " 8 3 0 5 9 1 0 8 4 9 9 3 3 8 1 3 8 2 7 5 4 8 9 1 8 9 3 7 9 9 9 9 0 3 3 6 4\n",
      " 9 9 0 3 7 7 5 5 3 2 5 8 7 2 8 2 6 3 1 7 8 8 5 2 1 2 8 9 8 7 8 5 0 2 2 2 2\n",
      " 5 7 5 9 4 7 8 3 8 9 5 6 1 1 9 5 8 2 5 7 2 4 6 7 1 4 2 6 4 2 2 5 5 5 2 5 4\n",
      " 4 7 2 9 2 0 5 6 5 3 0 3 8 4 0 0 3 1 6 1 4 1 7 6 9 4 8 1 3 2 3 0 5 2 2 5 5\n",
      " 2 2 7 7 6 9 9 0 5 1 0 4 9 4 5 0 0 8 6 6 2 9 3 9 4 2 7 9 1 6 2 5 7 2 4 7 7\n",
      " 1 4 2 4 5 9 1 8 1 3 8 5 9 9 3 2 0 5 1 5 2 2 4 7 9 6 3 8 8 7 8 2 0 1 5 6 2\n",
      " 3 8 4 0 4 4 4 3 0 2 7 4 1 5 6 4 5 4 9 3 9 7 1 8 7 4 0 6 0 5 7 4 9 9 8 9 0\n",
      " 7 7 7 3 5 8 2 2 8 3 2 2 9 3 2 3 1 2 5 3 2 2 7 3 6 3 9 5 7 8 5 3 3 2 2 7 2\n",
      " 8 2 9 1 9 0 3 9 6 0 5 5]\n",
      "[9 2 6 6 9 6 8 2 0 8 7 6 4 4 8 8 8 4 7 5 8 8 8 8 8 3 3 0 7 0 7 4 6 4 8 7 9\n",
      " 6 9 5 9 4 2 1 9 9 0 4 5 5 9 8 7 9 4 9 6 7 3 7 2 5 7 5 9 4 7 4 7 6 2 5 8 7\n",
      " 8 7 9 9 9 4 6 6 7 1 3 3 9 7 4 7 8 8 2 5 5 5 3 7 7 3 1 7 5 9 9 3 8 3 4 1 3\n",
      " 1 1 3 4 1 9 6 9 2 4 3 8 3 7 4 9 3 8 6 9 4 7 0 2 8 9 4 0 6 4 7 3 3 8 7 9 0\n",
      " 9 2 7 7 7 8 1 4 3 9 5 8 3 9 7 6 5 7 2 7 6 4 2 5 5 9 3 4 5 4 0 8 3 7 4 6 8\n",
      " 8 4 8 8 4 5 3 9 2 3 8 9 0 9 3 6 6 5 4 4 7 7 2 8 7 7 9 1 8 8 4 3 1 1 9 9 1\n",
      " 3 9 4 9 6 4 7 3 4 5 7 6 4 7 8 9 9 7 8 1 9 4 0 2 7 8 9 3 9 9 3 4 6 8 9 5 8\n",
      " 9 3 6 6 6 9 8 8 8 1 6 7 7 7 8 7 9 9 7 7 4 9 7 4 8 9 6 4 4 9 3 3 7 0 1 7 5\n",
      " 9 8 9 7 6 7 7 7 4 5 8 4 5 9 7 0 8 4 8 1 8 4 9 5 2 7 4 0 9 3 3 5 8 1 3 9 7\n",
      " 5 1 4 6 7 8 1 7 8 6 8 8]\n",
      "[    2    12    52    65    68    97   173   211   350   375   413   452\n",
      "   495   503   509   628   708   737   833   875   885   975  1002  1021\n",
      "  1055  1087  1090  1091  1112  1154  1171  1215  1216  1270  1300  1396\n",
      "  1511  1535  1541  1611  1722  1956  1980  1988  1994  2003  2012  2047\n",
      "  2068  2204  2269  2291  2299  2527  2531  2550  2558  2574  2579  2587\n",
      "  2618  2623  2627  2670  2671  2691  2714  2718  2744  2781  2791  2806\n",
      "  2808  2831  2854  2900  2902  2924  2943  2951  2967  3002  3042  3071\n",
      "  3143  3250  3344  3379  3483  3497  3563  3579  3643  3679  3688  3706\n",
      "  3734  3739  3833  3934  3945  3960  3982  3986  4000  4010  4032  4063\n",
      "  4164  4294  4360  4525  4597  4624  4641  4650  4661  4696  4742  4753\n",
      "  4765  4766  4790  4818  4822  4827  4858  4915  4919  4926  4955  5071\n",
      "  5127  5259  5274  5324  5347  5355  5415  5456  5463  5495  5529  5667\n",
      "  5680  5701  5719  5741  5779  5780  5881  5923  5946  6027  6137  6148\n",
      "  6203  6303  6304  6382  6395  6399  6413  6426  6467  6495  6496  6529\n",
      "  6570  6575  6657  6681  6691  6712  6815  6835  6864  6919  6964  6968\n",
      "  6971  6983  6998  7009  7010  7058  7063  7107  7109  7126  7171  7213\n",
      "  7214  7244  7267  7290  7293  7316  7366  7501  7600  7663  7733  7876\n",
      "  7916  7957  7972  8023  8077  8105  8169  8191  8217  8254  8276  8304\n",
      "  8338  8346  8353  8358  8484  8488  8531  8661  8665  8703  8752  8759\n",
      "  8763  8765  8826  8857  8890  8917  8947  8960  8962  9037  9075  9139\n",
      "  9151  9154  9197  9199  9246  9296  9395  9419  9434  9494  9537  9583\n",
      "  9616  9624  9703  9753  9770  9792  9794  9818  9827  9837  9871  9881\n",
      "  9907  9913  9928  9961 10040 10079 10094 10098 10114 10140 10201 10210\n",
      " 10245 10290 10292 10313 10333 10472 10481 10615 10622 10680 10719 10740\n",
      " 10763 10809 10825 10847 10849 10855 10857 10870 10879 10893 10905 10963\n",
      " 11024 11133 11134 11157 11185 11254 11322 11341 11530 11606 11642 11652\n",
      " 11654 11675 11690 11736 11742 11747 11777 11783 11858 11914 11923 11972\n",
      " 11978 11979 11990 12024 12077 12092 12229 12277 12338 12354 12387 12398\n",
      " 12405 12421 12439 12446 12449 12462 12513 12542 12560]\n"
     ]
    }
   ],
   "source": [
    "print(y_test[y_pred!=y_test])\n",
    "print(y_pred[y_pred!=y_test])\n",
    "numbers=np.array(range(0,12600))\n",
    "print(numbers[y_pred!=y_test])"
   ]
  },
  {
   "cell_type": "code",
   "execution_count": 66,
   "metadata": {},
   "outputs": [
    {
     "data": {
      "text/plain": [
       "<matplotlib.image.AxesImage at 0x2332e1f3240>"
      ]
     },
     "execution_count": 66,
     "metadata": {},
     "output_type": "execute_result"
    },
    {
     "data": {
      "image/png": "[encoded data removed]",
      "text/plain": [
       "<Figure size 432x288 with 1 Axes>"
      ]
     },
     "metadata": {
      "needs_background": "light"
     },
     "output_type": "display_data"
    }
   ],
   "source": [
    "plt.imshow(np.reshape(X_test[68,:],(28,28)))"
   ]
  }
 ],
 "metadata": {
  "kernelspec": {
   "display_name": "Python 3",
   "language": "python",
   "name": "python3"
  },
  "language_info": {
   "codemirror_mode": {
    "name": "ipython",
    "version": 3
   },
   "file_extension": ".py",
   "mimetype": "text/x-python",
   "name": "python",
   "nbconvert_exporter": "python",
   "pygments_lexer": "ipython3",
   "version": "3.7.3"
  }
 },
 "nbformat": 4,
 "nbformat_minor": 2
}
